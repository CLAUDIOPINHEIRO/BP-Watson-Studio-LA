{
    "nbformat_minor": 1, 
    "cells": [
        {
            "source": "\n<h1 align=center><font size = 5>An\u00e1lise explorat\u00f3ria de dados</font></h1>", 
            "cell_type": "markdown", 
            "metadata": {}
        }, 
        {
            "source": "A c\u00e9lula abaixo apresenta um exemplo conex\u00e3o atrav\u00e9s de um link\n\nNeste link voc\u00ea pode ter acesso a uma plataforma de ci\u00eancias de dados com recursos gratuitos (checar no link conte\u00fados, modalidade e servi\u00e7os disponiblizados sem custo)\n", 
            "cell_type": "markdown", 
            "metadata": {}
        }, 
        {
            "source": "<div class=\"alert alert-block alert-info\" style=\"margin-top: 20px\">\n <a href=\"http://cocl.us/DA0101EN_NotbookLink_Top\"><img src = \"https://www.nasuni.com/wp-content/uploads/2017/06/ibm-cloud.png\" width = 250, align = \"center\"></a>\n  <h1 align=center>", 
            "cell_type": "markdown", 
            "metadata": {}
        }, 
        {
            "execution_count": null, 
            "cell_type": "code", 
            "metadata": {}, 
            "outputs": [], 
            "source": ""
        }, 
        {
            "source": "### Quais as caracter\u00edsticas mais que tem o maior impacto no pre\u00e7o do carro?", 
            "cell_type": "markdown", 
            "metadata": {}
        }, 
        {
            "source": "## 1. Importando os dados ", 
            "cell_type": "markdown", 
            "metadata": {}
        }, 
        {
            "source": "#### preparando o ambiente com as bibliotecas Pandas e Numpy", 
            "cell_type": "markdown", 
            "metadata": {}
        }, 
        {
            "execution_count": null, 
            "cell_type": "code", 
            "metadata": {}, 
            "outputs": [], 
            "source": "import pandas as pd\nimport numpy as np"
        }, 
        {
            "source": "Agora vamos importar a base de dados de um reposit\u00f3rio p\u00fablico", 
            "cell_type": "markdown", 
            "metadata": {}
        }, 
        {
            "execution_count": null, 
            "cell_type": "code", 
            "metadata": {}, 
            "outputs": [], 
            "source": "path='https://ibm.box.com/shared/static/q6iiqb1pd7wo8r3q28jvgsrprzezjqk3.csv'\n\ndf = pd.read_csv(path)\ndf.head()"
        }, 
        {
            "source": "## 2. Analizando padr\u00f5es de caracter\u00edsticas utilizando explora\u00e7\u00e3o visual", 
            "cell_type": "markdown", 
            "metadata": {}
        }, 
        {
            "source": "Primeiramente vamos importar bibliotecas de an\u00e1lise gr\u00e1fica chamadas Matplotlib e Seaborn", 
            "cell_type": "markdown", 
            "metadata": {}
        }, 
        {
            "execution_count": null, 
            "cell_type": "code", 
            "metadata": {}, 
            "outputs": [], 
            "source": "\nimport matplotlib.pyplot as plt\nimport seaborn as sns\n%matplotlib inline "
        }, 
        {
            "source": "### Como escolher o m\u00e9todo de visualiza\u00e7\u00e3o certo?\n\nAo visualizar vari\u00e1veis \u200b\u200b**individuais**, \u00e9 importante primeiro entender o tipo de vari\u00e1vel para encontrar o m\u00e9todo de visualiza\u00e7\u00e3o correto para essa vari\u00e1vel.\n", 
            "cell_type": "markdown", 
            "metadata": {}
        }, 
        {
            "execution_count": null, 
            "cell_type": "code", 
            "metadata": {}, 
            "outputs": [], 
            "source": "# liste os tipos de dados para cada coluna\ndf.dtypes"
        }, 
        {
            "source": "<div class=\"alert alert-danger alertdanger\" style=\"margin-top: 20px\">\n<h1> Quest\u00e3o  #1: </h1>\n\n<b> Qual \u00e9 o tipo de dado da coluna \"peak-rpm\"? </b>\n</div>", 
            "cell_type": "markdown", 
            "metadata": {}
        }, 
        {
            "source": "", 
            "cell_type": "markdown", 
            "metadata": {}
        }, 
        {
            "source": "  <div align=\"right\">\n<a href=\"#q1\" class=\"btn btn-default\" data-toggle=\"collapse\">Clique aqui para a solu\u00e7\u00e3o</a>\n\n</div>\n<div id=\"q1\" class=\"collapse\">\n```\nfloat64\n```\n</div>\n", 
            "cell_type": "markdown", 
            "metadata": {}
        }, 
        {
            "source": " <div class=\"alert alert-danger alertdanger\" style=\"margin-top: 20px\">\n<h1> Quest\u00e3o 2  #2: </h1>\n\n<b> Encontre a correla\u00e7\u00e3o entre as seguintes colunas: bore, stroke,compression-ratio , e horsepower.\n<br>Dica: se voce quiser selecionar estas colunas use esta sintaxe: df[['bore','stroke' ,'compression-ratio','horsepower']]</bbr>  </b>\n</div>", 
            "cell_type": "markdown", 
            "metadata": {}
        }, 
        {
            "execution_count": null, 
            "cell_type": "code", 
            "metadata": {}, 
            "outputs": [], 
            "source": ""
        }, 
        {
            "source": " <div align=\"right\">\n<a href=\"#q2\" class=\"btn btn-default\" data-toggle=\"collapse\">Clique aqui para a solu\u00e7\u00e3o</a>\n\n</div>\n<div id=\"q2\" class=\"collapse\">\n```\ndf[['bore','stroke' ,'compression-ratio','horsepower']].corr()  \n```\n</div>\n", 
            "cell_type": "markdown", 
            "metadata": {}
        }, 
        {
            "source": "##  Vari\u00e1veis \u200b\u200bnum\u00e9ricas cont\u00ednuas:\n\nVari\u00e1veis \u200b\u200bnum\u00e9ricas cont\u00ednuas:\n\nEstas s\u00e3o vari\u00e1veis \u200b\u200bque podem conter qualquer valor dentro de uma escala m\u00e9trica de valores.\n\nAs vari\u00e1veis \u200b\u200bnum\u00e9ricas cont\u00ednuas podem ter o tipo \"int64\" ou \"float64\".\nUma \u00f3tima maneira de visualizar essas vari\u00e1veis \u200b\u200b\u00e9 usando diagramas de dispers\u00e3o com linhas ajustadas para come\u00e7ar a entender a rela\u00e7\u00e3o (linear) entre uma vari\u00e1vel individual e o pre\u00e7o.\nPodemos fazer isso usando \"regplot\", que tra\u00e7a o diagrama de dispers\u00e3o mais a linha de regress\u00e3o ajustada para os dados.", 
            "cell_type": "markdown", 
            "metadata": {}
        }, 
        {
            "source": "### Correla\u00e7\u00e3o linear positiva ", 
            "cell_type": "markdown", 
            "metadata": {}
        }, 
        {
            "execution_count": null, 
            "cell_type": "code", 
            "metadata": {}, 
            "outputs": [], 
            "source": "np.random.normal(1, 1, 1000)"
        }, 
        {
            "execution_count": null, 
            "cell_type": "code", 
            "metadata": {
                "scrolled": true
            }, 
            "outputs": [], 
            "source": "# Engine size como uma preditora potencial de price\nsns.regplot(x=\"engine-size\", y=\"price\", data=df)\nplt.ylim(0,)"
        }, 
        {
            "source": "#### Correla\u00e7\u00e3o Linear Positiva: \nQuando engine-size sobe, o price sobe: isto indica uma correla\u00e7\u00e3o positiva direta entre duas vari\u00e1veis.\n\nEngine size apresenta-se como um bom preditor para price, mesmo que a linha de regress\u00e3o n\u00e3o \u00e9 uma linha diagonal perfeita.", 
            "cell_type": "markdown", 
            "metadata": {}
        }, 
        {
            "source": "### Correla\u00e7\u00e3o Linear Negativa", 
            "cell_type": "markdown", 
            "metadata": {}
        }, 
        {
            "execution_count": null, 
            "cell_type": "code", 
            "metadata": {}, 
            "outputs": [], 
            "source": "# Highway mpg como uma poss\u00edvel preditora de price\nsns.regplot(x=\"highway-mpg\", y=\"price\", data=df)\nplt.ylim(0,)"
        }, 
        {
            "source": "#### Correla\u00e7\u00e3o linear negativa:\n\n\u00c0 medida que a vari\u00e1vel highway-mpg sobe, o pre\u00e7o diminui: isso indica uma rela\u00e7\u00e3o inversa / negativa entre essas duas vari\u00e1veis.\n\nHighway mpg poderia potencialmente ser um preditor de pre\u00e7o.\n", 
            "cell_type": "markdown", 
            "metadata": {}
        }, 
        {
            "source": "### Correla\u00e7\u00e3o linear fraca", 
            "cell_type": "markdown", 
            "metadata": {}
        }, 
        {
            "execution_count": null, 
            "cell_type": "code", 
            "metadata": {}, 
            "outputs": [], 
            "source": "# Peak rpm como uma preditora da vari\u00e1vel price\nsns.regplot(x=\"peak-rpm\", y=\"price\", data=df)"
        }, 
        {
            "source": "#### Correla\u00e7\u00e3o Linear Fraca:\n\nPeak rpm n\u00e3o parece um bom preditor de pre\u00e7o, uma vez que a linha de regress\u00e3o \u00e9 pr\u00f3xima da horizontal.\nAl\u00e9m disso, os pontos de dados s\u00e3o muito dispersos e longe da linha ajustada, mostrando que h\u00e1 muita variabilidade e, portanto, n\u00e3o \u00e9 uma vari\u00e1vel confi\u00e1vel\n", 
            "cell_type": "markdown", 
            "metadata": {}
        }, 
        {
            "source": " <div class=\"alert alert-danger alertdanger\" style=\"margin-top: 20px\">\n<h1> Quest\u00e3o  3 a): </h1>\n\n<b> Encontre a correla\u00e7\u00e3o entre x=\"stroke\", y=\"price\".\n<br>Dica: se voc\u00ea deseja selecionar essas colunas use a seguinte sintaxe: df[[\"stroke\",\"price\"]]</bbr>  </b>\n</div>", 
            "cell_type": "markdown", 
            "metadata": {}
        }, 
        {
            "execution_count": null, 
            "cell_type": "code", 
            "metadata": {}, 
            "outputs": [], 
            "source": ""
        }, 
        {
            "source": " <div align=\"right\">\n<a href=\"#q3a\" class=\"btn btn-default\" data-toggle=\"collapse\">clique aqui para solu\u00e7\u00e3o</a>\n\n</div>\n<div id=\"q3a\" class=\"collapse\">\n```\nA correla\u00e7\u00e3o \u00e9 0.0823, os elementos n\u00e3o diagonais de uma tabela. \ncode:df[[\"stroke\",\"price\"]].corr() \n```\n</div>", 
            "cell_type": "markdown", 
            "metadata": {}
        }, 
        {
            "source": " <div class=\"alert alert-danger alertdanger\" style=\"margin-top: 20px\">\n<h1> Quest\u00e3o  3 b): </h1>\n\n<b> Dadas as correla\u00e7\u00f5es entre \"price\" e \"stroke\" voc\u00ea espera que a correla\u00e7\u00e3o linear performe bem?. Verifique seus resultados usando a fun\u00e7\u00e3o \"regplot()\".</bbr>  </b>\n</div>", 
            "cell_type": "markdown", 
            "metadata": {}
        }, 
        {
            "execution_count": null, 
            "cell_type": "code", 
            "metadata": {}, 
            "outputs": [], 
            "source": ""
        }, 
        {
            "source": "  <div align=\"right\">\n<a href=\"#q3b\" class=\"btn btn-default\" data-toggle=\"collapse\">Click here for the solution</a>\n\n</div>\n<div id=\"q3b\" class=\"collapse\">\n```\nH\u00e1 uma correla\u00e7\u00e3o linear fraca entre as vari\u00e1veis stroke' e 'price.' Como essa regress\u00e3o n\u00e3o funcionar\u00e1 bem. Podemos ver esse uso \"regplot\" para demonstrar isso.\n\nCode: sns.regplot(x=\"stroke\", y=\"price\", data=df)\n```\n</div>\n", 
            "cell_type": "markdown", 
            "metadata": {}
        }, 
        {
            "source": "## Vari\u00e1veis categ\u00f3ricas\n\nS\u00e3o vari\u00e1veis \u200b\u200bque descrevem uma \"caracter\u00edstica\" de uma unidade de dados e s\u00e3o selecionadas de um pequeno grupo de categorias.\nAs vari\u00e1veis \u200b\u200bcateg\u00f3ricas podem ter o tipo \"objeto\" ou \"int64\".\n\nUma boa maneira de visualizar vari\u00e1veis \u200b\u200bcateg\u00f3ricas \u00e9 usando boxplots.", 
            "cell_type": "markdown", 
            "metadata": {}
        }, 
        {
            "execution_count": null, 
            "cell_type": "code", 
            "metadata": {
                "scrolled": true
            }, 
            "outputs": [], 
            "source": "# elegendo a vari\u00e1vel body-style\nsns.boxplot(x=\"body-style\", y=\"price\", data=df)"
        }, 
        {
            "source": "Vemos que as distribui\u00e7\u00f5es de pre\u00e7os entre as diferentes categorias de estilo se sobrep\u00f5em as demais e, portanto, o estilo da caixa n\u00e3o seria um bom preditor de pre\u00e7o.", 
            "cell_type": "markdown", 
            "metadata": {}
        }, 
        {
            "execution_count": null, 
            "cell_type": "code", 
            "metadata": {
                "scrolled": true
            }, 
            "outputs": [], 
            "source": "# engine-location\nsns.boxplot(x=\"engine-location\", y=\"price\", data=df)"
        }, 
        {
            "source": "Aqui, vemos que a distribui\u00e7\u00e3o de pre\u00e7o entre essas duas categorias de engine-location, frente e traseira, s\u00e3o distintas o suficiente para levar a localiza\u00e7\u00e3o do motor como um bom preditor de pre\u00e7o.\n", 
            "cell_type": "markdown", 
            "metadata": {}
        }, 
        {
            "execution_count": null, 
            "cell_type": "code", 
            "metadata": {
                "scrolled": false
            }, 
            "outputs": [], 
            "source": "# drive-wheels\nsns.boxplot(x=\"drive-wheels\", y=\"price\", data=df)"
        }, 
        {
            "source": "\nAqui, vemos que a distribui\u00e7\u00e3o do pre\u00e7o entre as diferentes categorias de rodas motrizes difere e, portanto, as rodas motrizes podem potencialmente ser um preditor de pre\u00e7o.\n", 
            "cell_type": "markdown", 
            "metadata": {}
        }, 
        {
            "source": "## 3. An\u00e1lise Estat\u00edstica Descritiva", 
            "cell_type": "markdown", 
            "metadata": {}
        }, 
        {
            "source": "\nVamos primeiro dar uma olhada nas vari\u00e1veis, utilizando um m\u00e9todo de descri\u00e7\u00e3o.\n\nA fun\u00e7\u00e3o \"describe\" calcula automaticamente estat\u00edsticas b\u00e1sicas para todas as vari\u00e1veis \u200b\u200bcont\u00ednuas. Todos os valores de NaN s\u00e3o ignorados automaticamente nessas estat\u00edsticas.\n\nIsso mostrar\u00e1:\n\n    A contagem dessa vari\u00e1vel,\n    A m\u00e9dia,\n    O desvio padr\u00e3o (std),\n    O valor m\u00ednimo,\n    O IQR ou amplitude interquartil(Interquartile Range: 25%, 50% e 75%), e\n    O valor m\u00e1ximo.\n\nA configura\u00e7\u00e3o padr\u00e3o de \"describe\" ignora as vari\u00e1veis \u200b\u200bcateg\u00f3ricas, mas ainda podemos fazer an\u00e1lises b\u00e1sicas sobre elas usando descrev\u00ea-la passando as como um par\u00e2metro.\n", 
            "cell_type": "markdown", 
            "metadata": {}
        }, 
        {
            "execution_count": null, 
            "cell_type": "code", 
            "metadata": {}, 
            "outputs": [], 
            "source": "# summary statistics using pandas method\ndf.describe()"
        }, 
        {
            "execution_count": null, 
            "cell_type": "code", 
            "metadata": {
                "scrolled": true
            }, 
            "outputs": [], 
            "source": "df.describe(include=['object'])"
        }, 
        {
            "source": "\nImediatamente vemos que certas vari\u00e1veis \u200b\u200bcateg\u00f3ricas seriam preditores muito pobres, porque s\u00e3o dominadas por uma \u00fanica categoria. O tipo de combust\u00edvel, por exemplo, \u00e9 quase sempre g\u00e1s. Outro preditor pobre \u00e9 a localiza\u00e7\u00e3o do motor. A aspira\u00e7\u00e3o eo tipo de motor tamb\u00e9m podem ser preditores pobres.\n", 
            "cell_type": "markdown", 
            "metadata": {}
        }, 
        {
            "source": "### Valores de contagens", 
            "cell_type": "markdown", 
            "metadata": {}
        }, 
        {
            "source": "Value-counts is a good way of understanding how many units of each characteristic/variable we have. ", 
            "cell_type": "markdown", 
            "metadata": {}
        }, 
        {
            "execution_count": null, 
            "cell_type": "code", 
            "metadata": {
                "scrolled": true
            }, 
            "outputs": [], 
            "source": "# drive-wheels como vari\u00e1vel\ndrive_wheels_counts = df['drive-wheels'].value_counts().to_frame()\ndrive_wheels_counts.rename(columns={'drive-wheels': 'value_counts'}, inplace=True)\ndrive_wheels_counts.index.name = 'drive-wheels'\ndrive_wheels_counts.head()"
        }, 
        {
            "execution_count": null, 
            "cell_type": "code", 
            "metadata": {}, 
            "outputs": [], 
            "source": "df['drive-wheels'].value_counts()"
        }, 
        {
            "execution_count": null, 
            "cell_type": "code", 
            "metadata": {}, 
            "outputs": [], 
            "source": "# engine-location como vari\u00e1vel\nengine_loc_counts = df['engine-location'].value_counts().to_frame()\nengine_loc_counts.rename(columns={'engine-location': 'value_counts'}, inplace=True)\nengine_loc_counts.index.name = 'engine-location'\nengine_loc_counts.head(10)"
        }, 
        {
            "source": "Como podemos ver, considerando as contagens de valor da localiza\u00e7\u00e3o do motor, isso n\u00e3o seria uma boa vari\u00e1vel de previs\u00e3o para o pre\u00e7o, j\u00e1 que temos apenas 3 carros com motor traseiro e 198 com motor dianteiro, por isso \u00e9 distorcido. Assim, n\u00e3o podemos tirar conclus\u00f5es sobre a localiza\u00e7\u00e3o do motor.", 
            "cell_type": "markdown", 
            "metadata": {}
        }, 
        {
            "source": "## 4. B\u00e1sico  de Agrupamento", 
            "cell_type": "markdown", 
            "metadata": {}
        }, 
        {
            "source": "A fun\u00e7\u00e3o groupby agrupa os dados por diferentes categorias de uma vari\u00e1vel e a an\u00e1lise pode ser feita em dados de uma categoria inteira. Isso nos permite ver como uma vari\u00e1vel afeta mais com mais clareza.\n\nVoc\u00ea pode agrupar por uma vari\u00e1vel. Por exemplo, vamos agrupar pela vari\u00e1vel \"drive-wheels\". Vemos que existem 3 categorias diferentes de rodas motrizes", 
            "cell_type": "markdown", 
            "metadata": {}
        }, 
        {
            "execution_count": null, 
            "cell_type": "code", 
            "metadata": {}, 
            "outputs": [], 
            "source": "df['drive-wheels'].unique()"
        }, 
        {
            "source": "\nSe quisermos saber, em m\u00e9dia, qual o tipo de drive wheel \u00e9 mais valioso, podemos agrupar as rodas motrizes e, em seguida, us\u00e1-las:", 
            "cell_type": "markdown", 
            "metadata": {}
        }, 
        {
            "execution_count": null, 
            "cell_type": "code", 
            "metadata": {}, 
            "outputs": [], 
            "source": "# Resultados de agrupamento\ndf_group_one=df[['drive-wheels','body-style','price']]\ndf_group_one=df_group_one.groupby(['drive-wheels'],as_index= False).mean()\ndf_group_one"
        }, 
        {
            "source": "A partir de nossos dados, parece que os ve\u00edculos com tra\u00e7\u00e3o traseira s\u00e3o, em m\u00e9dia, os mais caros, enquanto as rodas de 4-wheel e a front-wheel s\u00e3o pr\u00f3ximas do mesmo pre\u00e7o.\n\nVoc\u00ea tamb\u00e9m pode agrupar por m\u00faltiplas vari\u00e1veis.\n\nPor exemplo, vamos agrupar por \"drive-wheels\" e \"body-style\".\n\nIsso agrupa o quadro de dados pelas combina\u00e7\u00f5es \u00fanicas dessas duas vari\u00e1veis.", 
            "cell_type": "markdown", 
            "metadata": {}
        }, 
        {
            "execution_count": null, 
            "cell_type": "code", 
            "metadata": {}, 
            "outputs": [], 
            "source": "# resultados de agrupamentos\ndf_gptest=df[['drive-wheels','body-style','price']]\ngrouped_test1=df_gptest.groupby(['drive-wheels','body-style'],as_index= False).mean()\ngrouped_test1"
        }, 
        {
            "source": "\nEste dado agrupado \u00e9 muito mais f\u00e1cil de visualizar quando \u00e9 feito em uma tabela din\u00e2mica. Uma tabela din\u00e2mica \u00e9 como uma planilha do Excel, com uma vari\u00e1vel ao longo da coluna e outra ao longo da linha. Use a fun\u00e7\u00e3o de piv\u00f4 para criar uma tabela din\u00e2mica dos grupos.\n\nNeste caso, iremos deixar a vari\u00e1vel da drive-wheel como as linhas da tabela e girar o body-style para se tornar as colunas da tabela:\n", 
            "cell_type": "markdown", 
            "metadata": {}
        }, 
        {
            "execution_count": null, 
            "cell_type": "code", 
            "metadata": {}, 
            "outputs": [], 
            "source": "grouped_pivot=grouped_test1.pivot(index='drive-wheels',columns='body-style')\ngrouped_pivot"
        }, 
        {
            "source": "\nMuitas vezes, n\u00e3o teremos dados para algumas das c\u00e9lulas piv\u00f4. Isso n\u00e3o \u00e9 bom para o que faremos depois. Vamos preencher essas c\u00e9lulas em falta com o valor 0, mas qualquer outro valor poderia ser usado tamb\u00e9m.\n", 
            "cell_type": "markdown", 
            "metadata": {}
        }, 
        {
            "execution_count": null, 
            "cell_type": "code", 
            "metadata": {
                "scrolled": true
            }, 
            "outputs": [], 
            "source": "pd.options.display.float_format='R$ {:.2f}'.format\ngrouped_pivot=grouped_pivot.fillna(0) #preencha os casos faltantes com 0\ngrouped_pivot"
        }, 
        {
            "execution_count": null, 
            "cell_type": "code", 
            "metadata": {}, 
            "outputs": [], 
            "source": "pd.reset_option(\"display.float_format\")"
        }, 
        {
            "source": " <div class=\"alert alert-danger alertdanger\" style=\"margin-top: 20px\">\n<h1> Quest\u00e3o 4 : </h1>\n\n<b> Use a fun\u00e7\u00e3o \"groupby\" para encontrar o \"pre\u00e7o\" m\u00e9dio de cada carro com base em \"body-style\"  </b>\n</div>", 
            "cell_type": "markdown", 
            "metadata": {}
        }, 
        {
            "execution_count": null, 
            "cell_type": "code", 
            "metadata": {}, 
            "outputs": [], 
            "source": ""
        }, 
        {
            "source": "<div align=\"right\">\n<a href=\"#q4\" class=\"btn btn-default\" data-toggle=\"collapse\">Clique aqui para solu\u00e7\u00e3o</a>\n\n</div>\n<div id=\"q4\" class=\"collapse\">\n```\ndf[['price','body-style']].groupby(['body-style'],as_index= False).mean()\n```\n</div>\n", 
            "cell_type": "markdown", 
            "metadata": {}
        }, 
        {
            "source": "## 5. Correla\u00e7\u00e3o e Causalidade", 
            "cell_type": "markdown", 
            "metadata": {}
        }, 
        {
            "execution_count": null, 
            "cell_type": "code", 
            "metadata": {}, 
            "outputs": [], 
            "source": ""
        }, 
        {
            "source": "**Correla\u00e7\u00e3o**: uma medida da extens\u00e3o da interdepend\u00eancia entre as vari\u00e1veis.\n\n**Causalidade**: a rela\u00e7\u00e3o entre causa e efeito entre duas vari\u00e1veis.\n\n\u00c9 importante conhecer a diferen\u00e7a entre estes dois e essa correla\u00e7\u00e3o n\u00e3o implica causalidade. A ci\u00eancia dos dados tende a ser melhor para encontrar uma correla\u00e7\u00e3o do que encontrar uma causalidade.", 
            "cell_type": "markdown", 
            "metadata": {}
        }, 
        {
            "execution_count": null, 
            "cell_type": "code", 
            "metadata": {}, 
            "outputs": [], 
            "source": "import matplotlib.pyplot as plt\n% matplotlib inline "
        }, 
        {
            "source": "### Varia\u00e1veis: Drive Wheels e Body Style vs Price", 
            "cell_type": "markdown", 
            "metadata": {}
        }, 
        {
            "execution_count": null, 
            "cell_type": "code", 
            "metadata": {
                "scrolled": false
            }, 
            "outputs": [], 
            "source": "#use os dados agrupados\nplt.pcolor(grouped_pivot, cmap='RdBu')\nplt.colorbar()\nplt.show()"
        }, 
        {
            "source": "\nEste \u00e9 um mapa de calor, que tra\u00e7a a vari\u00e1vel alvo (pre\u00e7o), pois variamos duas outras vari\u00e1veis \u200b\u200b(drive-wheel e body-style). Isso nos permite visualizar como o pre\u00e7o est\u00e1 relacionado \u00e0 drive-wheel e ao body-style, al\u00e9m de ver se a drive-wheel e o corpo-corpo est\u00e3o relacionados uns com os outros.\nAs etiquetas padr\u00e3o n\u00e3o nos fornecem informa\u00e7\u00f5es \u00fateis. Vamos mudar isso:\n\n", 
            "cell_type": "markdown", 
            "metadata": {}
        }, 
        {
            "execution_count": null, 
            "cell_type": "code", 
            "metadata": {}, 
            "outputs": [], 
            "source": "fig, ax=plt.subplots()\nim=ax.pcolor(grouped_pivot, cmap='RdBu')\n\n#label names\nrow_labels=grouped_pivot.columns.levels[1]\ncol_labels=grouped_pivot.index\n#move ticks and labels to the center\nax.set_xticks(np.arange(grouped_pivot.shape[1])+0.5, minor=False)\nax.set_yticks(np.arange(grouped_pivot.shape[0])+0.5, minor=False)\n#insert labels\nax.set_xticklabels(row_labels, minor=False)\nax.set_yticklabels(col_labels, minor=False)\n#rotate label if too long\nplt.xticks(rotation=90)\n\nfig.colorbar(im)\nplt.show()"
        }, 
        {
            "source": "A visualiza\u00e7\u00e3o \u00e9 muito importante na ci\u00eancia dos dados, e os pacotes de visualiza\u00e7\u00e3o Python oferecem grande liberdade. Iremos mais aprofundadamente em um curso separado de visualiza\u00e7\u00f5es de Python", 
            "cell_type": "markdown", 
            "metadata": {}
        }, 
        {
            "source": "\nA quest\u00e3o principal que queremos responder neste m\u00f3dulo \u00e9 \"Quais s\u00e3o as principais caracter\u00edsticas que t\u00eam o maior impacto no pre\u00e7o do carro?\".\n\nPara obter uma melhor medida das caracter\u00edsticas importantes, analisamos a correla\u00e7\u00e3o dessas vari\u00e1veis \u200b\u200bcom o pre\u00e7o do carro, ou seja: como o pre\u00e7o do carro depende dessa vari\u00e1vel?\n", 
            "cell_type": "markdown", 
            "metadata": {}
        }, 
        {
            "source": "##  Correla\u00e7\u00e3o Pearson\n\nA Correla\u00e7\u00e3o de Pearson mede a depend\u00eancia linear entre duas vari\u00e1veis \u200b\u200bX e Y.\nO coeficiente resultante \u00e9 um valor entre -1 e 1 inclusive, onde:\n\n\n\n ** 1 **: correla\u00e7\u00e3o linear positiva total,\n-** 0 **: sem correla\u00e7\u00e3o linear, as duas vari\u00e1veis \u200b\u200bprovavelmente n\u00e3o se afetam\n-** - 1 **: correla\u00e7\u00e3o linear negativa total.\n\n** Valor P **:\nQual \u00e9 esse valor P? O valor P \u00e9 o valor de probabilidade que a correla\u00e7\u00e3o entre essas duas vari\u00e1veis \u200b\u200b\u00e9 estatisticamente significante. Normalmente, n\u00f3s escolhemos um n\u00edvel de signific\u00e2ncia de 0,05, o que significa que temos 95% de confian\u00e7a em que a correla\u00e7\u00e3o entre as vari\u00e1veis \u200b\u200b\u00e9 significativa.\n\nPor conven\u00e7\u00e3o, quando o\n- p-value \u00e9 <0,001, dizemos que h\u00e1 uma forte evid\u00eancia de que a correla\u00e7\u00e3o \u00e9 significativa,\n- p-valor \u00e9 <0,05, h\u00e1 evid\u00eancia moderada de que a correla\u00e7\u00e3o \u00e9 significativa,\n- o valor de p \u00e9 <0,1, h\u00e1 evid\u00eancias fracas de que a correla\u00e7\u00e3o \u00e9 significativa e\n- p-value is> 0.1, n\u00e3o h\u00e1 evid\u00eancias de que a correla\u00e7\u00e3o seja significante.\n\n", 
            "cell_type": "markdown", 
            "metadata": {}
        }, 
        {
            "execution_count": null, 
            "cell_type": "code", 
            "metadata": {}, 
            "outputs": [], 
            "source": "from scipy import stats"
        }, 
        {
            "source": "### Wheel-base vs Price", 
            "cell_type": "markdown", 
            "metadata": {}
        }, 
        {
            "execution_count": null, 
            "cell_type": "code", 
            "metadata": {}, 
            "outputs": [], 
            "source": "pearson_coef, p_value = stats.pearsonr(df['wheel-base'], df['price'])\nprint(\"O coeficiente de correla\u00e7\u00e3o de Pearson \u00e9\", pearson_coef, \" com um P-value  de P =\", p_value)  "
        }, 
        {
            "source": "##### Conclus\u00e3o: \nUma vez que o valor p \u00e9 <0,001, a correla\u00e7\u00e3o entre a base da roda e o pre\u00e7o \u00e9 estatisticamente significativa, embora o relacionamento linear n\u00e3o seja extremamente forte (~0.585)", 
            "cell_type": "markdown", 
            "metadata": {}
        }, 
        {
            "source": "### Horsepower vs Price", 
            "cell_type": "markdown", 
            "metadata": {}
        }, 
        {
            "execution_count": null, 
            "cell_type": "code", 
            "metadata": {}, 
            "outputs": [], 
            "source": "pearson_coef, p_value = stats.pearsonr(df['horsepower'], df['price'])\nprint(\"O coeficiente de correla\u00e7\u00e3o de Pearson \u00e9\", pearson_coef, \" com um P-value  de P =\", p_value)   "
        }, 
        {
            "source": "##### Conclus\u00e3o:\n\nUma vez que o valor de p \u00e9 <0,001, a correla\u00e7\u00e3o entre pot\u00eancia e pre\u00e7o \u00e9 estatisticamente significativa e a rela\u00e7\u00e3o linear \u00e9 bastante forte (~ 0,809, perto de 1)", 
            "cell_type": "markdown", 
            "metadata": {}
        }, 
        {
            "source": "### Length vs Price", 
            "cell_type": "markdown", 
            "metadata": {}
        }, 
        {
            "execution_count": null, 
            "cell_type": "code", 
            "metadata": {}, 
            "outputs": [], 
            "source": "pearson_coef, p_value = stats.pearsonr(df['length'], df['price'])\nprint(\"O coeficiente de correla\u00e7\u00e3o de Pearson \u00e9\", pearson_coef, \" com um P-value  de P =\", p_value)   "
        }, 
        {
            "source": "##### Conclus\u00e3o:\nUma vez que o valor p \u00e9 <0,001, a correla\u00e7\u00e3o entre comprimento e pre\u00e7o \u00e9 estatisticamente significativa e a rela\u00e7\u00e3o linear \u00e9 moderadamente forte (~ 0,691).", 
            "cell_type": "markdown", 
            "metadata": {}
        }, 
        {
            "source": "### Width vs Price", 
            "cell_type": "markdown", 
            "metadata": {}
        }, 
        {
            "execution_count": null, 
            "cell_type": "code", 
            "metadata": {}, 
            "outputs": [], 
            "source": "pearson_coef, p_value = stats.pearsonr(df['width'], df['price'])\nprint(\"O coeficiente de correla\u00e7\u00e3o de Pearson \u00e9\", pearson_coef, \" com um P-value  de P =\", p_value)  "
        }, 
        {
            "source": "##### Conclus\u00e3o:\n\nUma vez que o valor de p \u00e9 <0,001, a correla\u00e7\u00e3o entre largura e pre\u00e7o \u00e9 estatisticamente significativa e a rela\u00e7\u00e3o linear \u00e9 bastante forte (~ 0,751).", 
            "cell_type": "markdown", 
            "metadata": {}
        }, 
        {
            "source": "### Curb-weight vs Price", 
            "cell_type": "markdown", 
            "metadata": {}
        }, 
        {
            "execution_count": null, 
            "cell_type": "code", 
            "metadata": {}, 
            "outputs": [], 
            "source": "pearson_coef, p_value = stats.pearsonr(df['curb-weight'], df['price'])\nprint(\"O coeficiente de correla\u00e7\u00e3o de Pearson \u00e9\", pearson_coef, \" com um P-value  de P =\", p_value)  "
        }, 
        {
            "source": "##### Conclus\u00e3o:\nUma vez que o valor de p \u00e9 <0,001, a correla\u00e7\u00e3o entre peso de freio e pre\u00e7o \u00e9 estatisticamente significativa e a rela\u00e7\u00e3o linear \u00e9 bastante forte (~ 0,834).", 
            "cell_type": "markdown", 
            "metadata": {}
        }, 
        {
            "source": "### Engine-size vs Price", 
            "cell_type": "markdown", 
            "metadata": {}
        }, 
        {
            "execution_count": null, 
            "cell_type": "code", 
            "metadata": {}, 
            "outputs": [], 
            "source": "pearson_coef, p_value = stats.pearsonr(df['engine-size'], df['price'])\nprint(\"O coeficiente de correla\u00e7\u00e3o de Pearson \u00e9\", pearson_coef, \" com um P-value  de P =\", p_value)  "
        }, 
        {
            "source": "##### Conclus\u00e3o:\nUma vez que o valor de p \u00e9 <0,001, a correla\u00e7\u00e3o entre o tamanho do motor e o pre\u00e7o \u00e9 estatisticamente significativa e a rela\u00e7\u00e3o linear \u00e9 muito forte (~ 0,872).", 
            "cell_type": "markdown", 
            "metadata": {}
        }, 
        {
            "source": "### Bore vs Price", 
            "cell_type": "markdown", 
            "metadata": {}
        }, 
        {
            "execution_count": null, 
            "cell_type": "code", 
            "metadata": {}, 
            "outputs": [], 
            "source": "pearson_coef, p_value = stats.pearsonr(df['bore'], df['price'])\nprint(\"O coeficiente de correla\u00e7\u00e3o de Pearson \u00e9\", pearson_coef, \" com um P-value  de P =\", p_value)   "
        }, 
        {
            "source": "##### Conclus\u00e3o:\nUma vez que o valor de p \u00e9 <0,001, a correla\u00e7\u00e3o entre o furo eo pre\u00e7o \u00e9 estatisticamente significativa, mas a rela\u00e7\u00e3o linear \u00e9 apenas moderada (~ 0,521).", 
            "cell_type": "markdown", 
            "metadata": {}
        }, 
        {
            "source": "### City-mpg vs Price", 
            "cell_type": "markdown", 
            "metadata": {}
        }, 
        {
            "execution_count": null, 
            "cell_type": "code", 
            "metadata": {}, 
            "outputs": [], 
            "source": "pearson_coef, p_value = stats.pearsonr(df['city-mpg'], df['price'])\nprint(\"O coeficiente de correla\u00e7\u00e3o de Pearson \u00e9\", pearson_coef, \" com um P-value  de P =\", p_value)  "
        }, 
        {
            "source": "##### Conclus\u00e3o:\n\nUma vez que o valor p \u00e9 <0,001, a correla\u00e7\u00e3o entre cidade-mpg e pre\u00e7o \u00e9 estatisticamente significativa e o coeficiente de ~ -0,687 mostra que a rela\u00e7\u00e3o \u00e9 negativa e moderadamente forte.", 
            "cell_type": "markdown", 
            "metadata": {}
        }, 
        {
            "source": "### Highway-mpg vs Price", 
            "cell_type": "markdown", 
            "metadata": {}
        }, 
        {
            "execution_count": null, 
            "cell_type": "code", 
            "metadata": {}, 
            "outputs": [], 
            "source": "pearson_coef, p_value = stats.pearsonr(df['highway-mpg'], df['price'])\nprint(\"O coeficiente de correla\u00e7\u00e3o de Pearson \u00e9\", pearson_coef, \" com um P-value  de P =\", p_value)  "
        }, 
        {
            "source": "##### Conclus\u00e3o:\n\nUma vez que o valor de p \u00e9 <0,001, a correla\u00e7\u00e3o entre rodovia-mpg e pre\u00e7o \u00e9 estatisticamente significativa e o coeficiente de ~ -0,705 mostra que a rela\u00e7\u00e3o \u00e9 negativa e moderadamente forte.", 
            "cell_type": "markdown", 
            "metadata": {}
        }, 
        {
            "source": "## 6. ANOVA", 
            "cell_type": "markdown", 
            "metadata": {}
        }, 
        {
            "source": "###  ANOVA: An\u00e1lise de Vari\u00e2ncia\n\n\nEste \u00e9 um m\u00e9todo estat\u00edstico utilizado para testar se h\u00e1 diferen\u00e7as significativas entre os meios de dois ou mais grupos. ANOVA retorna dois par\u00e2metros:\n\nF-pontua\u00e7\u00e3o de teste: ANOVA assume que os meios de todos os grupos s\u00e3o os mesmos, calcula o quanto os meios reais se desviam do pressuposto e o relatam como o resultado do teste F. Uma pontua\u00e7\u00e3o maior significa uma diferen\u00e7a maior entre os meios.\n\nP-valor: j\u00e1 vimos isso ao calcular a correla\u00e7\u00e3o de Pearson. P-value conta como estatisticamente significativo \u00e9 o nosso valor calculado de pontua\u00e7\u00e3o\n\nSe a nossa vari\u00e1vel de pre\u00e7o estiver fortemente correlacionada com a vari\u00e1vel que estamos analisando, espera que ANOVA retorne um grande resultado de teste F e um pequeno valor de p.\nDrive Wheels\n\nUma vez que ANOVA analisa a diferen\u00e7a entre diferentes grupos da mesma vari\u00e1vel, a fun\u00e7\u00e3o groupby ser\u00e1 \u00fatil. Como o algoritmo ANOVA mede os dados automaticamente, n\u00e3o precisamos levar a m\u00e9dia antes da m\u00e3o.", 
            "cell_type": "markdown", 
            "metadata": {}
        }, 
        {
            "source": "### Drive Wheels", 
            "cell_type": "markdown", 
            "metadata": {}
        }, 
        {
            "source": "Uma vez que ANOVA analisa a diferen\u00e7a entre diferentes grupos da mesma vari\u00e1vel, a fun\u00e7\u00e3o groupby ser\u00e1 \u00fatil. Como o algoritmo ANOVA mede os dados automaticamente, n\u00e3o precisamos levar a m\u00e9dia antes da m\u00e3o.", 
            "cell_type": "markdown", 
            "metadata": {}
        }, 
        {
            "execution_count": null, 
            "cell_type": "code", 
            "metadata": {}, 
            "outputs": [], 
            "source": "grouped_test2=df_gptest[['drive-wheels','price']].groupby(['drive-wheels'])\ngrouped_test2.head(2)"
        }, 
        {
            "execution_count": null, 
            "cell_type": "code", 
            "metadata": {}, 
            "outputs": [], 
            "source": "grouped_test2.get_group('4wd')['price']"
        }, 
        {
            "execution_count": null, 
            "cell_type": "code", 
            "metadata": {}, 
            "outputs": [], 
            "source": "# este pacote j\u00e1 foi importado anteriormente\n# import scipy"
        }, 
        {
            "source": "#### All three groups together: 4wd, fwd, and rwd", 
            "cell_type": "markdown", 
            "metadata": {}
        }, 
        {
            "execution_count": null, 
            "cell_type": "code", 
            "metadata": {}, 
            "outputs": [], 
            "source": "# ANOVA\nf_val, p_val = stats.f_oneway(grouped_test2.get_group('fwd')['price'], grouped_test2.get_group('rwd')['price'], grouped_test2.get_group('4wd')['price'])  \n \nprint( \"Resultados de ANOVA: F=\", f_val, \", P =\", p_val)   "
        }, 
        {
            "source": "Este \u00e9 um \u00f3timo resultado, com um grande resultado de teste F com forte correla\u00e7\u00e3o e um valor de P quase 0 mostrando signific\u00e2ncia estat\u00edstica quase certa. Mas isso significa que todos os 3 grupos testados est\u00e3o todos altamente correlacionados?", 
            "cell_type": "markdown", 
            "metadata": {}
        }, 
        {
            "source": "#### Separately: fwd and rwd", 
            "cell_type": "markdown", 
            "metadata": {}
        }, 
        {
            "execution_count": null, 
            "cell_type": "code", 
            "metadata": {}, 
            "outputs": [], 
            "source": "f_val, p_val = stats.f_oneway(grouped_test2.get_group('fwd')['price'], grouped_test2.get_group('rwd')['price'])  \n \nprint( \"Resultados de ANOVA: F=\", f_val, \", P =\", p_val )"
        }, 
        {
            "source": "#### 4wd and rwd", 
            "cell_type": "markdown", 
            "metadata": {}
        }, 
        {
            "execution_count": null, 
            "cell_type": "code", 
            "metadata": {
                "scrolled": true
            }, 
            "outputs": [], 
            "source": "f_val, p_val = stats.f_oneway(grouped_test2.get_group('4wd')['price'], grouped_test2.get_group('rwd')['price'])  \n   \nprint( \"Resultados de ANOVA: F=\", f_val, \", P =\", p_val)   "
        }, 
        {
            "source": "#### 4wd and fwd", 
            "cell_type": "markdown", 
            "metadata": {}
        }, 
        {
            "execution_count": null, 
            "cell_type": "code", 
            "metadata": {}, 
            "outputs": [], 
            "source": "f_val, p_val = stats.f_oneway(grouped_test2.get_group('4wd')['price'], grouped_test2.get_group('fwd')['price'])  \n \nprint(\"Resultados de ANOVA: F=\", f_val, \", P =\", p_val)   "
        }, 
        {
            "source": "## Conclus\u00e3o: Vari\u00e1veis importantes", 
            "cell_type": "markdown", 
            "metadata": {}
        }, 
        {
            "source": "Agora temos uma melhor id\u00e9ia do que nossos dados se parecem e quais vari\u00e1veis \u200b\u200bs\u00e3o importantes para levar em considera\u00e7\u00e3o ao prever o pre\u00e7o do carro. N\u00f3s reduzimos isso \u00e0s seguintes vari\u00e1veis:\n\nVari\u00e1veis \u200b\u200bnum\u00e9ricas cont\u00ednuas:\n\n- Length\n- Width\n- Curb-weight\n- Engine-size\n- Horsepower\n- City-mpg\n- Highway-mpg\n- Wheel-base\n- Bore\n\nVari\u00e1veis Categoricas \n- Drive-wheels\n\nComo nos movemos agora para a constru\u00e7\u00e3o de modelos de aprendizado de m\u00e1quinas para automatizar nossas an\u00e1lises, alimentar o modelo com vari\u00e1veis \u200b\u200bque afetam significativamente nossa vari\u00e1vel alvo ir\u00e1 melhorar o desempenho de previs\u00e3o do nosso modelo.", 
            "cell_type": "markdown", 
            "metadata": {
                "collapsed": true
            }
        }, 
        {
            "source": "# Sobre os Autores:  \n\nEste notebook foi escrito por [Mahdi Noorian PhD](https://www.linkedin.com/in/mahdi-noorian-58219234/) ,[Joseph Santarcangelo PhD]( https://www.linkedin.com/in/joseph-s-50398b136/), Bahare Talayian, Eric Xiao, Steven Dong, Parizad , Hima Vsudevan e [Fiorella Wenver](https://www.linkedin.com/in/fiorellawever/).\n\nAdaptado por Cl\u00e1udio Pinheiro https://www.linkedin.com/in/claudio-pinheiro-cloud\n", 
            "cell_type": "markdown", 
            "metadata": {
                "collapsed": true
            }
        }, 
        {
            "execution_count": null, 
            "cell_type": "code", 
            "metadata": {}, 
            "outputs": [], 
            "source": ""
        }
    ], 
    "metadata": {
        "kernelspec": {
            "display_name": "Python 3.5", 
            "name": "python3", 
            "language": "python"
        }, 
        "widgets": {
            "state": {}, 
            "version": "1.1.2"
        }, 
        "language_info": {
            "mimetype": "text/x-python", 
            "nbconvert_exporter": "python", 
            "version": "3.5.5", 
            "name": "python", 
            "file_extension": ".py", 
            "pygments_lexer": "ipython3", 
            "codemirror_mode": {
                "version": 3, 
                "name": "ipython"
            }
        }, 
        "anaconda-cloud": {}
    }, 
    "nbformat": 4
}